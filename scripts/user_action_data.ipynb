{
 "cells": [
  {
   "cell_type": "code",
   "execution_count": 2,
   "metadata": {
    "collapsed": true
   },
   "outputs": [],
   "source": [
    "import pandas as pd"
   ]
  },
  {
   "cell_type": "code",
   "execution_count": 2,
   "metadata": {
    "collapsed": false
   },
   "outputs": [],
   "source": [
    "user_action_pd = pd.read_csv('../data/mars_tianchi_user_actions.csv',header=None)"
   ]
  },
  {
   "cell_type": "code",
   "execution_count": 3,
   "metadata": {
    "collapsed": false
   },
   "outputs": [],
   "source": [
    "user_action_pd.columns = ['user_id','song_id', 'gmt_create','action_type','ds']"
   ]
  },
  {
   "cell_type": "code",
   "execution_count": 7,
   "metadata": {
    "collapsed": false
   },
   "outputs": [
    {
     "name": "stdout",
     "output_type": "stream",
     "text": [
      "the num of data: 5652232\n",
      "the num of user 349946\n"
     ]
    }
   ],
   "source": [
    "user_action_ds = user_action_pd[user_action_pd.action_type==1].groupby(['user_id','ds'])['action_type'].count()\n",
    "print 'the num of data: %d'%user_action_pd['user_id'].count()\n",
    "print 'the num of user %d'%len(user_action_pd['user_id'].unique())"
   ]
  },
  {
   "cell_type": "code",
   "execution_count": 8,
   "metadata": {
    "collapsed": false
   },
   "outputs": [
    {
     "name": "stdout",
     "output_type": "stream",
     "text": [
      "user_id                           ds      \n",
      "0000110e00f7c85f550b329dc3d76210  20150530    1\n",
      "                                  20150613    1\n",
      "                                  20150614    1\n",
      "                                  20150616    1\n",
      "                                  20150617    2\n",
      "                                  20150619    1\n",
      "                                  20150623    3\n",
      "                                  20150624    3\n",
      "                                  20150626    1\n",
      "                                  20150627    5\n",
      "                                  20150628    2\n",
      "                                  20150630    3\n",
      "                                  20150701    1\n",
      "                                  20150703    1\n",
      "                                  20150704    1\n",
      "                                  20150731    1\n",
      "                                  20150806    1\n",
      "                                  20150818    2\n",
      "00004931fe12d6f678f67e375b3806e3  20150414    3\n",
      "                                  20150416    3\n",
      "Name: action_type, dtype: int64\n",
      "the num of song: 10278\n"
     ]
    }
   ],
   "source": [
    "print user_action_ds.head(20)\n",
    "print 'the num of song: %d'%len(user_action_pd['song_id'].unique())"
   ]
  },
  {
   "cell_type": "code",
   "execution_count": 6,
   "metadata": {
    "collapsed": false
   },
   "outputs": [
    {
     "data": {
      "text/html": [
       "<div>\n",
       "<table border=\"1\" class=\"dataframe\">\n",
       "  <thead>\n",
       "    <tr style=\"text-align: right;\">\n",
       "      <th></th>\n",
       "      <th>user_id</th>\n",
       "      <th>song_id</th>\n",
       "      <th>gmt_create</th>\n",
       "      <th>action_type</th>\n",
       "      <th>ds</th>\n",
       "    </tr>\n",
       "  </thead>\n",
       "  <tbody>\n",
       "    <tr>\n",
       "      <th>0</th>\n",
       "      <td>7063b3d0c075a4d276c5f06f4327cf4a</td>\n",
       "      <td>effb071415be51f11e845884e67c0f8c</td>\n",
       "      <td>1426406400</td>\n",
       "      <td>1</td>\n",
       "      <td>20150315</td>\n",
       "    </tr>\n",
       "    <tr>\n",
       "      <th>1</th>\n",
       "      <td>0db66c0dd3993fd3504bb98c3beb15b3</td>\n",
       "      <td>f87ff481d85d2f95335ab602f38a7655</td>\n",
       "      <td>1426417200</td>\n",
       "      <td>1</td>\n",
       "      <td>20150315</td>\n",
       "    </tr>\n",
       "    <tr>\n",
       "      <th>2</th>\n",
       "      <td>f8c065dc140ec74c6e44144164e618e3</td>\n",
       "      <td>8a27d9a6c59628c991c154e8d93f412e</td>\n",
       "      <td>1426406400</td>\n",
       "      <td>2</td>\n",
       "      <td>20150315</td>\n",
       "    </tr>\n",
       "    <tr>\n",
       "      <th>3</th>\n",
       "      <td>2c6082cf0d68e244f2a10325e8d1b85b</td>\n",
       "      <td>ecea5fe33e6817d09c395f2910479728</td>\n",
       "      <td>1426417200</td>\n",
       "      <td>1</td>\n",
       "      <td>20150315</td>\n",
       "    </tr>\n",
       "    <tr>\n",
       "      <th>4</th>\n",
       "      <td>2c6082cf0d68e244f2a10325e8d1b85b</td>\n",
       "      <td>31a3d0420d89c9b121bb55dbdbbeda6b</td>\n",
       "      <td>1426417200</td>\n",
       "      <td>1</td>\n",
       "      <td>20150315</td>\n",
       "    </tr>\n",
       "  </tbody>\n",
       "</table>\n",
       "</div>"
      ],
      "text/plain": [
       "                            user_id                           song_id  \\\n",
       "0  7063b3d0c075a4d276c5f06f4327cf4a  effb071415be51f11e845884e67c0f8c   \n",
       "1  0db66c0dd3993fd3504bb98c3beb15b3  f87ff481d85d2f95335ab602f38a7655   \n",
       "2  f8c065dc140ec74c6e44144164e618e3  8a27d9a6c59628c991c154e8d93f412e   \n",
       "3  2c6082cf0d68e244f2a10325e8d1b85b  ecea5fe33e6817d09c395f2910479728   \n",
       "4  2c6082cf0d68e244f2a10325e8d1b85b  31a3d0420d89c9b121bb55dbdbbeda6b   \n",
       "\n",
       "   gmt_create  action_type        ds  \n",
       "0  1426406400            1  20150315  \n",
       "1  1426417200            1  20150315  \n",
       "2  1426406400            2  20150315  \n",
       "3  1426417200            1  20150315  \n",
       "4  1426417200            1  20150315  "
      ]
     },
     "execution_count": 6,
     "metadata": {},
     "output_type": "execute_result"
    }
   ],
   "source": [
    "user_action_pd.head()"
   ]
  },
  {
   "cell_type": "code",
   "execution_count": null,
   "metadata": {
    "collapsed": true
   },
   "outputs": [],
   "source": [
    "\n",
    "print 'the num of  artrist: %d' %(len(user_action_pd))"
   ]
  },
  {
   "cell_type": "code",
   "execution_count": 7,
   "metadata": {
    "collapsed": true
   },
   "outputs": [],
   "source": [
    "user_action_pd['gmt_create'] = pd.to_datetime(user_action_pd['gmt_create'],unit='s')"
   ]
  },
  {
   "cell_type": "code",
   "execution_count": 8,
   "metadata": {
    "collapsed": false
   },
   "outputs": [
    {
     "data": {
      "text/html": [
       "<div>\n",
       "<table border=\"1\" class=\"dataframe\">\n",
       "  <thead>\n",
       "    <tr style=\"text-align: right;\">\n",
       "      <th></th>\n",
       "      <th>user_id</th>\n",
       "      <th>song_id</th>\n",
       "      <th>gmt_create</th>\n",
       "      <th>action_type</th>\n",
       "      <th>ds</th>\n",
       "    </tr>\n",
       "  </thead>\n",
       "  <tbody>\n",
       "    <tr>\n",
       "      <th>0</th>\n",
       "      <td>7063b3d0c075a4d276c5f06f4327cf4a</td>\n",
       "      <td>effb071415be51f11e845884e67c0f8c</td>\n",
       "      <td>2015-03-15 08:00:00</td>\n",
       "      <td>1</td>\n",
       "      <td>20150315</td>\n",
       "    </tr>\n",
       "    <tr>\n",
       "      <th>1</th>\n",
       "      <td>0db66c0dd3993fd3504bb98c3beb15b3</td>\n",
       "      <td>f87ff481d85d2f95335ab602f38a7655</td>\n",
       "      <td>2015-03-15 11:00:00</td>\n",
       "      <td>1</td>\n",
       "      <td>20150315</td>\n",
       "    </tr>\n",
       "    <tr>\n",
       "      <th>2</th>\n",
       "      <td>f8c065dc140ec74c6e44144164e618e3</td>\n",
       "      <td>8a27d9a6c59628c991c154e8d93f412e</td>\n",
       "      <td>2015-03-15 08:00:00</td>\n",
       "      <td>2</td>\n",
       "      <td>20150315</td>\n",
       "    </tr>\n",
       "    <tr>\n",
       "      <th>3</th>\n",
       "      <td>2c6082cf0d68e244f2a10325e8d1b85b</td>\n",
       "      <td>ecea5fe33e6817d09c395f2910479728</td>\n",
       "      <td>2015-03-15 11:00:00</td>\n",
       "      <td>1</td>\n",
       "      <td>20150315</td>\n",
       "    </tr>\n",
       "    <tr>\n",
       "      <th>4</th>\n",
       "      <td>2c6082cf0d68e244f2a10325e8d1b85b</td>\n",
       "      <td>31a3d0420d89c9b121bb55dbdbbeda6b</td>\n",
       "      <td>2015-03-15 11:00:00</td>\n",
       "      <td>1</td>\n",
       "      <td>20150315</td>\n",
       "    </tr>\n",
       "  </tbody>\n",
       "</table>\n",
       "</div>"
      ],
      "text/plain": [
       "                            user_id                           song_id  \\\n",
       "0  7063b3d0c075a4d276c5f06f4327cf4a  effb071415be51f11e845884e67c0f8c   \n",
       "1  0db66c0dd3993fd3504bb98c3beb15b3  f87ff481d85d2f95335ab602f38a7655   \n",
       "2  f8c065dc140ec74c6e44144164e618e3  8a27d9a6c59628c991c154e8d93f412e   \n",
       "3  2c6082cf0d68e244f2a10325e8d1b85b  ecea5fe33e6817d09c395f2910479728   \n",
       "4  2c6082cf0d68e244f2a10325e8d1b85b  31a3d0420d89c9b121bb55dbdbbeda6b   \n",
       "\n",
       "           gmt_create  action_type        ds  \n",
       "0 2015-03-15 08:00:00            1  20150315  \n",
       "1 2015-03-15 11:00:00            1  20150315  \n",
       "2 2015-03-15 08:00:00            2  20150315  \n",
       "3 2015-03-15 11:00:00            1  20150315  \n",
       "4 2015-03-15 11:00:00            1  20150315  "
      ]
     },
     "execution_count": 8,
     "metadata": {},
     "output_type": "execute_result"
    }
   ],
   "source": [
    "user_action_pd.head()"
   ]
  },
  {
   "cell_type": "code",
   "execution_count": 9,
   "metadata": {
    "collapsed": false
   },
   "outputs": [
    {
     "name": "stdout",
     "output_type": "stream",
     "text": [
      "1    4783603\n",
      "2     812427\n",
      "3      56202\n",
      "Name: action_type, dtype: int64\n"
     ]
    },
    {
     "data": {
      "text/plain": [
       "<matplotlib.axes._subplots.AxesSubplot at 0x1106c92d0>"
      ]
     },
     "execution_count": 9,
     "metadata": {},
     "output_type": "execute_result"
    },
    {
     "data": {
      "image/png": "[encoded data removed]",
      "text/plain": [
       "<matplotlib.figure.Figure at 0x1106b3bd0>"
      ]
     },
     "metadata": {},
     "output_type": "display_data"
    }
   ],
   "source": [
    "import matplotlib\n",
    "import numpy as np\n",
    "import matplotlib.pyplot as plt\n",
    "%matplotlib inline  \n",
    "print user_action_pd['action_type'].value_counts()\n",
    "user_action_pd['action_type'].value_counts().sort_index().plot(kind='bar')"
   ]
  },
  {
   "cell_type": "code",
   "execution_count": 10,
   "metadata": {
    "collapsed": false
   },
   "outputs": [
    {
     "data": {
      "text/plain": [
       "<matplotlib.axes._subplots.AxesSubplot at 0x1106ff750>"
      ]
     },
     "execution_count": 10,
     "metadata": {},
     "output_type": "execute_result"
    },
    {
     "data": {
      "image/png": "[encoded data removed]",
      "text/plain": [
       "<matplotlib.figure.Figure at 0x110aba9d0>"
      ]
     },
     "metadata": {},
     "output_type": "display_data"
    }
   ],
   "source": [
    "user_action_pd['ds_month'] =  user_action_pd['ds']/100\n",
    "user_action_pd['ds_month'] = user_action_pd['ds_month'].astype(int)\n",
    "user_action_pd['ds_month'].value_counts().sort_index().plot(kind='bar')"
   ]
  },
  {
   "cell_type": "markdown",
   "metadata": {
    "collapsed": true
   },
   "source": [
    "#按song_id来做分组，得到播放count，下载count，收藏count"
   ]
  },
  {
   "cell_type": "code",
   "execution_count": 11,
   "metadata": {
    "collapsed": false
   },
   "outputs": [],
   "source": [
    "user_action_song_pd = user_action_pd.groupby('song_id')['action_type'].value_counts()"
   ]
  },
  {
   "cell_type": "code",
   "execution_count": 12,
   "metadata": {
    "collapsed": false
   },
   "outputs": [],
   "source": [
    "user_action_song_pd = user_action_song_pd.reset_index()"
   ]
  },
  {
   "cell_type": "code",
   "execution_count": 13,
   "metadata": {
    "collapsed": false
   },
   "outputs": [
    {
     "data": {
      "text/html": [
       "<div>\n",
       "<table border=\"1\" class=\"dataframe\">\n",
       "  <thead>\n",
       "    <tr style=\"text-align: right;\">\n",
       "      <th></th>\n",
       "      <th>song_id</th>\n",
       "      <th>action_type</th>\n",
       "      <th>0</th>\n",
       "    </tr>\n",
       "  </thead>\n",
       "  <tbody>\n",
       "    <tr>\n",
       "      <th>0</th>\n",
       "      <td>00088cb1e6d740fcd42bc8ff2673c805</td>\n",
       "      <td>2</td>\n",
       "      <td>10</td>\n",
       "    </tr>\n",
       "    <tr>\n",
       "      <th>1</th>\n",
       "      <td>00088cb1e6d740fcd42bc8ff2673c805</td>\n",
       "      <td>1</td>\n",
       "      <td>8</td>\n",
       "    </tr>\n",
       "    <tr>\n",
       "      <th>2</th>\n",
       "      <td>0008de587f84d8c9491502c5a5c8b466</td>\n",
       "      <td>1</td>\n",
       "      <td>337</td>\n",
       "    </tr>\n",
       "    <tr>\n",
       "      <th>3</th>\n",
       "      <td>0008de587f84d8c9491502c5a5c8b466</td>\n",
       "      <td>2</td>\n",
       "      <td>76</td>\n",
       "    </tr>\n",
       "    <tr>\n",
       "      <th>4</th>\n",
       "      <td>0008de587f84d8c9491502c5a5c8b466</td>\n",
       "      <td>3</td>\n",
       "      <td>2</td>\n",
       "    </tr>\n",
       "  </tbody>\n",
       "</table>\n",
       "</div>"
      ],
      "text/plain": [
       "                            song_id  action_type    0\n",
       "0  00088cb1e6d740fcd42bc8ff2673c805            2   10\n",
       "1  00088cb1e6d740fcd42bc8ff2673c805            1    8\n",
       "2  0008de587f84d8c9491502c5a5c8b466            1  337\n",
       "3  0008de587f84d8c9491502c5a5c8b466            2   76\n",
       "4  0008de587f84d8c9491502c5a5c8b466            3    2"
      ]
     },
     "execution_count": 13,
     "metadata": {},
     "output_type": "execute_result"
    }
   ],
   "source": [
    "user_action_song_pd.head(5)"
   ]
  },
  {
   "cell_type": "code",
   "execution_count": 14,
   "metadata": {
    "collapsed": false
   },
   "outputs": [
    {
     "name": "stdout",
     "output_type": "stream",
     "text": [
      "                            song_id  user_id\n",
      "0  00088cb1e6d740fcd42bc8ff2673c805       14\n",
      "1  0008de587f84d8c9491502c5a5c8b466      118\n",
      "2  001255dc583167e23fb7dbae3e326aa1        4\n",
      "3  0016fea9ce414e9b4c3111560b421fb8        8\n",
      "4  001b556ab4be161f90c5f3543b01b7e1      133\n",
      "                            song_id  user_id\n",
      "0  00088cb1e6d740fcd42bc8ff2673c805       18\n",
      "1  0008de587f84d8c9491502c5a5c8b466      415\n",
      "2  001255dc583167e23fb7dbae3e326aa1        4\n",
      "3  0016fea9ce414e9b4c3111560b421fb8       28\n",
      "4  001b556ab4be161f90c5f3543b01b7e1      443\n",
      "                            song_id  user_id_unique  user_id_num\n",
      "0  00088cb1e6d740fcd42bc8ff2673c805              14           18\n",
      "1  0008de587f84d8c9491502c5a5c8b466             118          415\n",
      "2  001255dc583167e23fb7dbae3e326aa1               4            4\n",
      "3  0016fea9ce414e9b4c3111560b421fb8               8           28\n",
      "4  001b556ab4be161f90c5f3543b01b7e1             133          443\n",
      "song_id           10278\n",
      "user_id_unique    10278\n",
      "user_id_num       10278\n",
      "dtype: int64\n"
     ]
    }
   ],
   "source": [
    "# 歌曲被听得用户id数\n",
    "song_user_num_distinct_pd = user_action_pd.groupby('song_id')['user_id'].nunique()\n",
    "song_user_num_distinct_pd = song_user_num_distinct_pd.reset_index()\n",
    "print song_user_num_distinct_pd.head(5)\n",
    "song_user_num_pd = user_action_pd.groupby('song_id')['user_id'].count()\n",
    "song_user_num_pd = song_user_num_pd.reset_index()\n",
    "print song_user_num_pd.head(5)\n",
    "song_user_num_final_pd = song_user_num_distinct_pd.merge(song_user_num_pd,on='song_id')\n",
    "song_user_num_final_pd.columns=['song_id','user_id_unique','user_id_num']\n",
    "print song_user_num_final_pd.head(5)\n",
    "print song_user_num_final_pd.count()"
   ]
  },
  {
   "cell_type": "code",
   "execution_count": 3,
   "metadata": {
    "collapsed": false
   },
   "outputs": [
    {
     "name": "stdout",
     "output_type": "stream",
     "text": [
      "                            song_id                         artist_id  \\\n",
      "0  af0e153c72bf63e21bb42702ef0d7726  0c80008b0a28d356026f4b1097041689   \n",
      "1  0919b5ed4ce2649f61bcc6c21fadab12  0c80008b0a28d356026f4b1097041689   \n",
      "2  8a0777df37bf6a0f3384d63a47d4d21b  0c80008b0a28d356026f4b1097041689   \n",
      "3  b61bc45712ee40c3f4a37dd4d063ad52  0c80008b0a28d356026f4b1097041689   \n",
      "4  a2fbe29da3a760d7467b8a7b3247a9c8  0c80008b0a28d356026f4b1097041689   \n",
      "\n",
      "   publish_time  song_init_plays  Language  Gender  \n",
      "0      20120512            11360         2       1  \n",
      "1      20121224             2018         2       1  \n",
      "2      20111206             4825         2       1  \n",
      "3      20130522             5502         2       1  \n",
      "4      20130522             2990         2       1  \n"
     ]
    }
   ],
   "source": [
    "songs_info_pd = pd.read_csv('../data/mars_tianchi_songs.csv', header=None)\n",
    "songs_info_pd.columns=['song_id','artist_id','publish_time','song_init_plays','Language','Gender']\n",
    "print songs_info_pd.head(5)"
   ]
  },
  {
   "cell_type": "code",
   "execution_count": 9,
   "metadata": {
    "collapsed": true
   },
   "outputs": [],
   "source": [
    "songs_info_pd['publish_time'] = pd.to_datetime(songs_info_pd['publish_time'].astype(str),unit='D')\n",
    "\n",
    "songs_info_pd['publish_year'] = pd.DatetimeIndex(songs_info_pd['publish_time']).year"
   ]
  },
  {
   "cell_type": "code",
   "execution_count": 19,
   "metadata": {
    "collapsed": true
   },
   "outputs": [],
   "source": [
    "artist_songs_dis = songs_info_pd.groupby(['publish_year'])['song_id'].count()"
   ]
  },
  {
   "cell_type": "code",
   "execution_count": 21,
   "metadata": {
    "collapsed": false
   },
   "outputs": [
    {
     "name": "stdout",
     "output_type": "stream",
     "text": [
      "Populating the interactive namespace from numpy and matplotlib\n"
     ]
    },
    {
     "data": {
      "text/plain": [
       "<matplotlib.axes._subplots.AxesSubplot at 0x113a26050>"
      ]
     },
     "execution_count": 21,
     "metadata": {},
     "output_type": "execute_result"
    },
    {
     "data": {
      "image/png": "[encoded data removed]",
      "text/plain": [
       "<matplotlib.figure.Figure at 0x114103750>"
      ]
     },
     "metadata": {},
     "output_type": "display_data"
    }
   ],
   "source": [
    "%pylab inline\n",
    "artist_songs_dis.plot()"
   ]
  },
  {
   "cell_type": "code",
   "execution_count": 16,
   "metadata": {
    "collapsed": false
   },
   "outputs": [
    {
     "data": {
      "text/plain": [
       "2      3102\n",
       "4      3029\n",
       "1      1942\n",
       "11     1500\n",
       "3       775\n",
       "100     437\n",
       "12       28\n",
       "0        19\n",
       "14       10\n",
       "Name: Language, dtype: int64"
      ]
     },
     "execution_count": 16,
     "metadata": {},
     "output_type": "execute_result"
    }
   ],
   "source": [
    "songs_info_pd['Language'].value_counts()"
   ]
  },
  {
   "cell_type": "code",
   "execution_count": 17,
   "metadata": {
    "collapsed": true
   },
   "outputs": [],
   "source": [
    "# songs_info_pd['publish_time'] = pd.to_datetime(songs_info_pd['publish_time'])"
   ]
  },
  {
   "cell_type": "code",
   "execution_count": 18,
   "metadata": {
    "collapsed": false
   },
   "outputs": [
    {
     "data": {
      "text/html": [
       "<div>\n",
       "<table border=\"1\" class=\"dataframe\">\n",
       "  <thead>\n",
       "    <tr style=\"text-align: right;\">\n",
       "      <th></th>\n",
       "      <th>song_id</th>\n",
       "      <th>artist_id</th>\n",
       "      <th>publish_time</th>\n",
       "      <th>song_init_plays</th>\n",
       "      <th>Language</th>\n",
       "      <th>Gender</th>\n",
       "    </tr>\n",
       "  </thead>\n",
       "  <tbody>\n",
       "    <tr>\n",
       "      <th>0</th>\n",
       "      <td>af0e153c72bf63e21bb42702ef0d7726</td>\n",
       "      <td>0c80008b0a28d356026f4b1097041689</td>\n",
       "      <td>20120512</td>\n",
       "      <td>11360</td>\n",
       "      <td>2</td>\n",
       "      <td>1</td>\n",
       "    </tr>\n",
       "    <tr>\n",
       "      <th>1</th>\n",
       "      <td>0919b5ed4ce2649f61bcc6c21fadab12</td>\n",
       "      <td>0c80008b0a28d356026f4b1097041689</td>\n",
       "      <td>20121224</td>\n",
       "      <td>2018</td>\n",
       "      <td>2</td>\n",
       "      <td>1</td>\n",
       "    </tr>\n",
       "    <tr>\n",
       "      <th>2</th>\n",
       "      <td>8a0777df37bf6a0f3384d63a47d4d21b</td>\n",
       "      <td>0c80008b0a28d356026f4b1097041689</td>\n",
       "      <td>20111206</td>\n",
       "      <td>4825</td>\n",
       "      <td>2</td>\n",
       "      <td>1</td>\n",
       "    </tr>\n",
       "    <tr>\n",
       "      <th>3</th>\n",
       "      <td>b61bc45712ee40c3f4a37dd4d063ad52</td>\n",
       "      <td>0c80008b0a28d356026f4b1097041689</td>\n",
       "      <td>20130522</td>\n",
       "      <td>5502</td>\n",
       "      <td>2</td>\n",
       "      <td>1</td>\n",
       "    </tr>\n",
       "    <tr>\n",
       "      <th>4</th>\n",
       "      <td>a2fbe29da3a760d7467b8a7b3247a9c8</td>\n",
       "      <td>0c80008b0a28d356026f4b1097041689</td>\n",
       "      <td>20130522</td>\n",
       "      <td>2990</td>\n",
       "      <td>2</td>\n",
       "      <td>1</td>\n",
       "    </tr>\n",
       "  </tbody>\n",
       "</table>\n",
       "</div>"
      ],
      "text/plain": [
       "                            song_id                         artist_id  \\\n",
       "0  af0e153c72bf63e21bb42702ef0d7726  0c80008b0a28d356026f4b1097041689   \n",
       "1  0919b5ed4ce2649f61bcc6c21fadab12  0c80008b0a28d356026f4b1097041689   \n",
       "2  8a0777df37bf6a0f3384d63a47d4d21b  0c80008b0a28d356026f4b1097041689   \n",
       "3  b61bc45712ee40c3f4a37dd4d063ad52  0c80008b0a28d356026f4b1097041689   \n",
       "4  a2fbe29da3a760d7467b8a7b3247a9c8  0c80008b0a28d356026f4b1097041689   \n",
       "\n",
       "   publish_time  song_init_plays  Language  Gender  \n",
       "0      20120512            11360         2       1  \n",
       "1      20121224             2018         2       1  \n",
       "2      20111206             4825         2       1  \n",
       "3      20130522             5502         2       1  \n",
       "4      20130522             2990         2       1  "
      ]
     },
     "execution_count": 18,
     "metadata": {},
     "output_type": "execute_result"
    }
   ],
   "source": [
    "songs_info_pd.head(5)"
   ]
  },
  {
   "cell_type": "code",
   "execution_count": 24,
   "metadata": {
    "collapsed": false
   },
   "outputs": [],
   "source": [
    "songs_info_pd['publish_time'] = pd.to_datetime(songs_info_pd['publish_time'].astype(str),unit='D')"
   ]
  },
  {
   "cell_type": "code",
   "execution_count": 25,
   "metadata": {
    "collapsed": false
   },
   "outputs": [
    {
     "data": {
      "text/html": [
       "<div>\n",
       "<table border=\"1\" class=\"dataframe\">\n",
       "  <thead>\n",
       "    <tr style=\"text-align: right;\">\n",
       "      <th></th>\n",
       "      <th>song_id</th>\n",
       "      <th>artist_id</th>\n",
       "      <th>publish_time</th>\n",
       "      <th>song_init_plays</th>\n",
       "      <th>Language</th>\n",
       "      <th>Gender</th>\n",
       "      <th>publish_time2</th>\n",
       "    </tr>\n",
       "  </thead>\n",
       "  <tbody>\n",
       "    <tr>\n",
       "      <th>0</th>\n",
       "      <td>af0e153c72bf63e21bb42702ef0d7726</td>\n",
       "      <td>0c80008b0a28d356026f4b1097041689</td>\n",
       "      <td>2012-05-12</td>\n",
       "      <td>11360</td>\n",
       "      <td>2</td>\n",
       "      <td>1</td>\n",
       "      <td>2012-05-12</td>\n",
       "    </tr>\n",
       "    <tr>\n",
       "      <th>1</th>\n",
       "      <td>0919b5ed4ce2649f61bcc6c21fadab12</td>\n",
       "      <td>0c80008b0a28d356026f4b1097041689</td>\n",
       "      <td>2012-12-24</td>\n",
       "      <td>2018</td>\n",
       "      <td>2</td>\n",
       "      <td>1</td>\n",
       "      <td>2012-12-24</td>\n",
       "    </tr>\n",
       "    <tr>\n",
       "      <th>2</th>\n",
       "      <td>8a0777df37bf6a0f3384d63a47d4d21b</td>\n",
       "      <td>0c80008b0a28d356026f4b1097041689</td>\n",
       "      <td>2011-12-06</td>\n",
       "      <td>4825</td>\n",
       "      <td>2</td>\n",
       "      <td>1</td>\n",
       "      <td>2011-12-06</td>\n",
       "    </tr>\n",
       "    <tr>\n",
       "      <th>3</th>\n",
       "      <td>b61bc45712ee40c3f4a37dd4d063ad52</td>\n",
       "      <td>0c80008b0a28d356026f4b1097041689</td>\n",
       "      <td>2013-05-22</td>\n",
       "      <td>5502</td>\n",
       "      <td>2</td>\n",
       "      <td>1</td>\n",
       "      <td>2013-05-22</td>\n",
       "    </tr>\n",
       "    <tr>\n",
       "      <th>4</th>\n",
       "      <td>a2fbe29da3a760d7467b8a7b3247a9c8</td>\n",
       "      <td>0c80008b0a28d356026f4b1097041689</td>\n",
       "      <td>2013-05-22</td>\n",
       "      <td>2990</td>\n",
       "      <td>2</td>\n",
       "      <td>1</td>\n",
       "      <td>2013-05-22</td>\n",
       "    </tr>\n",
       "  </tbody>\n",
       "</table>\n",
       "</div>"
      ],
      "text/plain": [
       "                            song_id                         artist_id  \\\n",
       "0  af0e153c72bf63e21bb42702ef0d7726  0c80008b0a28d356026f4b1097041689   \n",
       "1  0919b5ed4ce2649f61bcc6c21fadab12  0c80008b0a28d356026f4b1097041689   \n",
       "2  8a0777df37bf6a0f3384d63a47d4d21b  0c80008b0a28d356026f4b1097041689   \n",
       "3  b61bc45712ee40c3f4a37dd4d063ad52  0c80008b0a28d356026f4b1097041689   \n",
       "4  a2fbe29da3a760d7467b8a7b3247a9c8  0c80008b0a28d356026f4b1097041689   \n",
       "\n",
       "  publish_time  song_init_plays  Language  Gender publish_time2  \n",
       "0   2012-05-12            11360         2       1    2012-05-12  \n",
       "1   2012-12-24             2018         2       1    2012-12-24  \n",
       "2   2011-12-06             4825         2       1    2011-12-06  \n",
       "3   2013-05-22             5502         2       1    2013-05-22  \n",
       "4   2013-05-22             2990         2       1    2013-05-22  "
      ]
     },
     "execution_count": 25,
     "metadata": {},
     "output_type": "execute_result"
    }
   ],
   "source": [
    "songs_info_pd.head(5)"
   ]
  },
  {
   "cell_type": "code",
   "execution_count": 28,
   "metadata": {
    "collapsed": false
   },
   "outputs": [
    {
     "ename": "AttributeError",
     "evalue": "'Series' object has no attribute 'split'",
     "output_type": "error",
     "traceback": [
      "\u001b[0;31m---------------------------------------------------------------------------\u001b[0m",
      "\u001b[0;31mAttributeError\u001b[0m                            Traceback (most recent call last)",
      "\u001b[0;32m<ipython-input-28-46e1d0e3752d>\u001b[0m in \u001b[0;36m<module>\u001b[0;34m()\u001b[0m\n\u001b[0;32m----> 1\u001b[0;31m \u001b[0msongs_info_pd\u001b[0m\u001b[0;34m[\u001b[0m\u001b[0;34m'publish_time_year'\u001b[0m\u001b[0;34m]\u001b[0m \u001b[0;34m=\u001b[0m \u001b[0msongs_info_pd\u001b[0m\u001b[0;34m[\u001b[0m\u001b[0;34m'publish_time'\u001b[0m\u001b[0;34m]\u001b[0m\u001b[0;34m.\u001b[0m\u001b[0mastype\u001b[0m\u001b[0;34m(\u001b[0m\u001b[0mstr\u001b[0m\u001b[0;34m)\u001b[0m\u001b[0;34m.\u001b[0m\u001b[0msplit\u001b[0m\u001b[0;34m(\u001b[0m\u001b[0;34m'-'\u001b[0m\u001b[0;34m)\u001b[0m\u001b[0;34m(\u001b[0m\u001b[0;36m0\u001b[0m\u001b[0;34m)\u001b[0m\u001b[0;34m\u001b[0m\u001b[0m\n\u001b[0m",
      "\u001b[0;32m/Users/burness/anaconda/lib/python2.7/site-packages/pandas/core/generic.pyc\u001b[0m in \u001b[0;36m__getattr__\u001b[0;34m(self, name)\u001b[0m\n\u001b[1;32m   2358\u001b[0m                 \u001b[0;32mreturn\u001b[0m \u001b[0mself\u001b[0m\u001b[0;34m[\u001b[0m\u001b[0mname\u001b[0m\u001b[0;34m]\u001b[0m\u001b[0;34m\u001b[0m\u001b[0m\n\u001b[1;32m   2359\u001b[0m             raise AttributeError(\"'%s' object has no attribute '%s'\" %\n\u001b[0;32m-> 2360\u001b[0;31m                                  (type(self).__name__, name))\n\u001b[0m\u001b[1;32m   2361\u001b[0m \u001b[0;34m\u001b[0m\u001b[0m\n\u001b[1;32m   2362\u001b[0m     \u001b[0;32mdef\u001b[0m \u001b[0m__setattr__\u001b[0m\u001b[0;34m(\u001b[0m\u001b[0mself\u001b[0m\u001b[0;34m,\u001b[0m \u001b[0mname\u001b[0m\u001b[0;34m,\u001b[0m \u001b[0mvalue\u001b[0m\u001b[0;34m)\u001b[0m\u001b[0;34m:\u001b[0m\u001b[0;34m\u001b[0m\u001b[0m\n",
      "\u001b[0;31mAttributeError\u001b[0m: 'Series' object has no attribute 'split'"
     ]
    }
   ],
   "source": [
    "songs_info_pd['publish_time_year'] = songs_info_pd['publish_time'].astype(str).split('-')(0)"
   ]
  },
  {
   "cell_type": "code",
   "execution_count": null,
   "metadata": {
    "collapsed": true
   },
   "outputs": [],
   "source": []
  }
 ],
 "metadata": {
  "kernelspec": {
   "display_name": "Python 2",
   "language": "python",
   "name": "python2"
  },
  "language_info": {
   "codemirror_mode": {
    "name": "ipython",
    "version": 2
   },
   "file_extension": ".py",
   "mimetype": "text/x-python",
   "name": "python",
   "nbconvert_exporter": "python",
   "pygments_lexer": "ipython2",
   "version": "2.7.11"
  }
 },
 "nbformat": 4,
 "nbformat_minor": 0
}
