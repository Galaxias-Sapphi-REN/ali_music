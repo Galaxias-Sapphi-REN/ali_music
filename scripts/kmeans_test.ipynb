{
 "cells": [
  {
   "cell_type": "code",
   "execution_count": 1,
   "metadata": {},
   "outputs": [],
   "source": [
    "from sklearn.datasets import make_classification"
   ]
  },
  {
   "cell_type": "code",
   "execution_count": 4,
   "metadata": {},
   "outputs": [],
   "source": [
    "x,y = make_classification(n_samples=3000,n_features=3000,n_classes=3,n_informative=20)"
   ]
  },
  {
   "cell_type": "code",
   "execution_count": 5,
   "metadata": {},
   "outputs": [],
   "source": [
    "from sklearn.cluster import k_means"
   ]
  },
  {
   "cell_type": "code",
   "execution_count": 7,
   "metadata": {},
   "outputs": [
    {
     "data": {
      "text/plain": [
       "(array([[ 0.02152936,  0.01896863,  0.02253014, ..., -0.00746859,\n",
       "          0.00668127,  0.02263871],\n",
       "        [-0.03349148,  0.0080772 , -0.0193046 , ..., -0.01846178,\n",
       "         -0.03866256,  0.02374868],\n",
       "        [-0.03453045,  0.01958697, -0.00099403, ...,  0.03035722,\n",
       "         -0.01918702,  0.03492171]]),\n",
       " array([0, 2, 2, ..., 1, 2, 1], dtype=int32),\n",
       " 9447051.9423381072)"
      ]
     },
     "execution_count": 7,
     "output_type": "execute_result",
     "metadata": {}
    }
   ],
   "source": [
    "k_means(x,n_clusters=3)"
   ]
  },
  {
   "cell_type": "code",
   "execution_count": null,
   "metadata": {},
   "outputs": [],
   "source": [
    ""
   ]
  }
 ],
 "metadata": {
  "kernelspec": {
   "display_name": "Python 2",
   "language": "python",
   "name": "python2"
  },
  "language_info": {
   "codemirror_mode": {
    "name": "ipython",
    "version": 2.0
   },
   "file_extension": ".py",
   "mimetype": "text/x-python",
   "name": "python",
   "nbconvert_exporter": "python",
   "pygments_lexer": "ipython2",
   "version": "2.7.11"
  }
 },
 "nbformat": 4,
 "nbformat_minor": 0
}